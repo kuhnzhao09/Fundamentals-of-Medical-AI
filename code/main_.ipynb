{
 "cells": [
  {
   "cell_type": "code",
   "id": "initial_id",
   "metadata": {
    "collapsed": true,
    "jupyter": {
     "is_executing": true
    }
   },
   "source": [
    "# 导入必要的库\n",
    "from transformers import pipeline\n",
    "import librosa\n",
    "import librosa.display\n",
    "import matplotlib.pyplot as plt\n",
    "\n",
    "# 加载语音情感识别预训练模型\n",
    "audio_classifier = pipeline(task=\"audio-classification\",\n",
    "                            model=\"superb/wav2vec2-base-superb-er\")\n",
    "\n",
    "# 加载示例语音数据（RAVDESS样本）\n",
    "audio_file = \"sample_audio.wav\"  # 替换为你的语音文件路径\n",
    "\n",
    "# 加载音频\n",
    "audio, sr = librosa.load(audio_file, sr=16000)  # 16kHz是模型要求的采样率\n",
    "\n",
    "# 进行情感识别\n",
    "result = audio_classifier(audio_file)\n",
    "\n",
    "# 显示结果\n",
    "print(\"识别到的情绪是：\", result[0]['label'])\n",
    "print(\"情绪置信度为：\", round(result[0]['score']*100, 2), \"%\")\n",
    "\n",
    "# 可视化音频波形（可选）\n",
    "import matplotlib.pyplot as plt\n",
    "plt.figure(figsize=(10, 4))\n",
    "librosa.display.waveshow(audio, sr=sr)\n",
    "plt.title('语音波形')\n",
    "plt.xlabel('时间 (秒)')\n",
    "plt.ylabel('幅度')\n",
    "plt.show()\n"
   ],
   "outputs": [],
   "execution_count": null
  }
 ],
 "metadata": {
  "kernelspec": {
   "display_name": "Python 3",
   "language": "python",
   "name": "python3"
  },
  "language_info": {
   "codemirror_mode": {
    "name": "ipython",
    "version": 2
   },
   "file_extension": ".py",
   "mimetype": "text/x-python",
   "name": "python",
   "nbconvert_exporter": "python",
   "pygments_lexer": "ipython2",
   "version": "2.7.6"
  }
 },
 "nbformat": 4,
 "nbformat_minor": 5
}
